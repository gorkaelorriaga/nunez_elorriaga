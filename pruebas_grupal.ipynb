{
 "cells": [
  {
   "cell_type": "code",
   "execution_count": 48,
   "metadata": {},
   "outputs": [],
   "source": [
    "lista = [2, 3, 4, \"A\", 3]\n",
    "lista_vacia = []\n",
    "lista_str = \"hola\""
   ]
  },
  {
   "cell_type": "code",
   "execution_count": 45,
   "metadata": {},
   "outputs": [],
   "source": [
    "def check_number(values):\n",
    "    index = 0\n",
    "    for elem in values:\n",
    "        try:\n",
    "            float(elem)\n",
    "            print(elem)\n",
    "        except ValueError as error:\n",
    "            if (len(values) > 1):\n",
    "                raise ValueError(f\"El tipo de dato en el indice [{index}] con valor [{elem}] es incorrecto.\")\n",
    "            else:\n",
    "                raise ValueError(f\"El tipo de dato [{elem}] es incorrecto.\")\n",
    "        index +=1"
   ]
  },
  {
   "cell_type": "code",
   "execution_count": null,
   "metadata": {},
   "outputs": [],
   "source": []
  },
  {
   "cell_type": "code",
   "execution_count": 52,
   "metadata": {},
   "outputs": [
    {
     "name": "stdout",
     "output_type": "stream",
     "text": [
      "2\n",
      "3\n",
      "4\n"
     ]
    },
    {
     "ename": "ValueError",
     "evalue": "El tipo de dato en el indice [3] con valor [A] es incorrecto.",
     "output_type": "error",
     "traceback": [
      "\u001b[1;31m---------------------------------------------------------------------------\u001b[0m",
      "\u001b[1;31mValueError\u001b[0m                                Traceback (most recent call last)",
      "\u001b[1;32mc:\\Users\\Iker\\OneDrive - Mondragon Unibertsitatea\\Uni\\BDA 4\\PROGRA\\pruebas_grupal.ipynb Cell 3\u001b[0m line \u001b[0;36m5\n\u001b[0;32m      <a href='vscode-notebook-cell:/c%3A/Users/Iker/OneDrive%20-%20Mondragon%20Unibertsitatea/Uni/BDA%204/PROGRA/pruebas_grupal.ipynb#W2sZmlsZQ%3D%3D?line=3'>4</a>\u001b[0m \u001b[39mtry\u001b[39;00m:\n\u001b[1;32m----> <a href='vscode-notebook-cell:/c%3A/Users/Iker/OneDrive%20-%20Mondragon%20Unibertsitatea/Uni/BDA%204/PROGRA/pruebas_grupal.ipynb#W2sZmlsZQ%3D%3D?line=4'>5</a>\u001b[0m     \u001b[39mfloat\u001b[39;49m(elem)\n\u001b[0;32m      <a href='vscode-notebook-cell:/c%3A/Users/Iker/OneDrive%20-%20Mondragon%20Unibertsitatea/Uni/BDA%204/PROGRA/pruebas_grupal.ipynb#W2sZmlsZQ%3D%3D?line=5'>6</a>\u001b[0m     \u001b[39mprint\u001b[39m(elem)\n",
      "\u001b[1;31mValueError\u001b[0m: could not convert string to float: 'A'",
      "\nDuring handling of the above exception, another exception occurred:\n",
      "\u001b[1;31mValueError\u001b[0m                                Traceback (most recent call last)",
      "\u001b[1;32mc:\\Users\\Iker\\OneDrive - Mondragon Unibertsitatea\\Uni\\BDA 4\\PROGRA\\pruebas_grupal.ipynb Cell 3\u001b[0m line \u001b[0;36m1\n\u001b[1;32m----> <a href='vscode-notebook-cell:/c%3A/Users/Iker/OneDrive%20-%20Mondragon%20Unibertsitatea/Uni/BDA%204/PROGRA/pruebas_grupal.ipynb#W2sZmlsZQ%3D%3D?line=0'>1</a>\u001b[0m check_number(lista)\n",
      "\u001b[1;32mc:\\Users\\Iker\\OneDrive - Mondragon Unibertsitatea\\Uni\\BDA 4\\PROGRA\\pruebas_grupal.ipynb Cell 3\u001b[0m line \u001b[0;36m9\n\u001b[0;32m      <a href='vscode-notebook-cell:/c%3A/Users/Iker/OneDrive%20-%20Mondragon%20Unibertsitatea/Uni/BDA%204/PROGRA/pruebas_grupal.ipynb#W2sZmlsZQ%3D%3D?line=6'>7</a>\u001b[0m \u001b[39mexcept\u001b[39;00m \u001b[39mValueError\u001b[39;00m \u001b[39mas\u001b[39;00m error:\n\u001b[0;32m      <a href='vscode-notebook-cell:/c%3A/Users/Iker/OneDrive%20-%20Mondragon%20Unibertsitatea/Uni/BDA%204/PROGRA/pruebas_grupal.ipynb#W2sZmlsZQ%3D%3D?line=7'>8</a>\u001b[0m     \u001b[39mif\u001b[39;00m (\u001b[39mlen\u001b[39m(values) \u001b[39m>\u001b[39m \u001b[39m1\u001b[39m):\n\u001b[1;32m----> <a href='vscode-notebook-cell:/c%3A/Users/Iker/OneDrive%20-%20Mondragon%20Unibertsitatea/Uni/BDA%204/PROGRA/pruebas_grupal.ipynb#W2sZmlsZQ%3D%3D?line=8'>9</a>\u001b[0m         \u001b[39mraise\u001b[39;00m \u001b[39mValueError\u001b[39;00m(\u001b[39mf\u001b[39m\u001b[39m\"\u001b[39m\u001b[39mEl tipo de dato en el indice [\u001b[39m\u001b[39m{\u001b[39;00mindex\u001b[39m}\u001b[39;00m\u001b[39m] con valor [\u001b[39m\u001b[39m{\u001b[39;00melem\u001b[39m}\u001b[39;00m\u001b[39m] es incorrecto.\u001b[39m\u001b[39m\"\u001b[39m)\n\u001b[0;32m     <a href='vscode-notebook-cell:/c%3A/Users/Iker/OneDrive%20-%20Mondragon%20Unibertsitatea/Uni/BDA%204/PROGRA/pruebas_grupal.ipynb#W2sZmlsZQ%3D%3D?line=9'>10</a>\u001b[0m     \u001b[39melse\u001b[39;00m:\n\u001b[0;32m     <a href='vscode-notebook-cell:/c%3A/Users/Iker/OneDrive%20-%20Mondragon%20Unibertsitatea/Uni/BDA%204/PROGRA/pruebas_grupal.ipynb#W2sZmlsZQ%3D%3D?line=10'>11</a>\u001b[0m         \u001b[39mraise\u001b[39;00m \u001b[39mValueError\u001b[39;00m(\u001b[39mf\u001b[39m\u001b[39m\"\u001b[39m\u001b[39mEl tipo de dato [\u001b[39m\u001b[39m{\u001b[39;00melem\u001b[39m}\u001b[39;00m\u001b[39m] es incorrecto.\u001b[39m\u001b[39m\"\u001b[39m)\n",
      "\u001b[1;31mValueError\u001b[0m: El tipo de dato en el indice [3] con valor [A] es incorrecto."
     ]
    }
   ],
   "source": [
    "check_number(lista)"
   ]
  },
  {
   "cell_type": "code",
   "execution_count": 15,
   "metadata": {},
   "outputs": [
    {
     "ename": "TypeError",
     "evalue": "len() takes exactly one argument (2 given)",
     "output_type": "error",
     "traceback": [
      "\u001b[1;31m---------------------------------------------------------------------------\u001b[0m",
      "\u001b[1;31mTypeError\u001b[0m                                 Traceback (most recent call last)",
      "\u001b[1;32mc:\\Users\\Iker\\OneDrive - Mondragon Unibertsitatea\\Uni\\BDA 4\\PROGRA\\pruebas_grupal.ipynb Cell 4\u001b[0m line \u001b[0;36m1\n\u001b[1;32m----> <a href='vscode-notebook-cell:/c%3A/Users/Iker/OneDrive%20-%20Mondragon%20Unibertsitatea/Uni/BDA%204/PROGRA/pruebas_grupal.ipynb#W3sZmlsZQ%3D%3D?line=0'>1</a>\u001b[0m \u001b[39mlen\u001b[39;49m(\u001b[39m\"\u001b[39;49m\u001b[39ma\u001b[39;49m\u001b[39m\"\u001b[39;49m, \u001b[39m\"\u001b[39;49m\u001b[39mb\u001b[39;49m\u001b[39m\"\u001b[39;49m)\n",
      "\u001b[1;31mTypeError\u001b[0m: len() takes exactly one argument (2 given)"
     ]
    }
   ],
   "source": [
    "len(\"a\", \"b\")"
   ]
  },
  {
   "cell_type": "code",
   "execution_count": 50,
   "metadata": {},
   "outputs": [
    {
     "ename": "TypeError",
     "evalue": "'int' object is not iterable",
     "output_type": "error",
     "traceback": [
      "\u001b[1;31m---------------------------------------------------------------------------\u001b[0m",
      "\u001b[1;31mTypeError\u001b[0m                                 Traceback (most recent call last)",
      "\u001b[1;32mc:\\Users\\Iker\\OneDrive - Mondragon Unibertsitatea\\Uni\\BDA 4\\PROGRA\\pruebas_grupal.ipynb Cell 5\u001b[0m line \u001b[0;36m1\n\u001b[1;32m----> <a href='vscode-notebook-cell:/c%3A/Users/Iker/OneDrive%20-%20Mondragon%20Unibertsitatea/Uni/BDA%204/PROGRA/pruebas_grupal.ipynb#W4sZmlsZQ%3D%3D?line=0'>1</a>\u001b[0m \u001b[39mfor\u001b[39;00m i \u001b[39min\u001b[39;00m \u001b[39m12\u001b[39m:\n\u001b[0;32m      <a href='vscode-notebook-cell:/c%3A/Users/Iker/OneDrive%20-%20Mondragon%20Unibertsitatea/Uni/BDA%204/PROGRA/pruebas_grupal.ipynb#W4sZmlsZQ%3D%3D?line=1'>2</a>\u001b[0m     \u001b[39mprint\u001b[39m(i)\n",
      "\u001b[1;31mTypeError\u001b[0m: 'int' object is not iterable"
     ]
    }
   ],
   "source": [
    "for i in 12:\n",
    "    print(i)"
   ]
  },
  {
   "cell_type": "code",
   "execution_count": 20,
   "metadata": {},
   "outputs": [
    {
     "data": {
      "text/plain": [
       "False"
      ]
     },
     "execution_count": 20,
     "metadata": {},
     "output_type": "execute_result"
    }
   ],
   "source": [
    "\"a\".isnumeric()"
   ]
  },
  {
   "cell_type": "code",
   "execution_count": null,
   "metadata": {},
   "outputs": [],
   "source": []
  },
  {
   "cell_type": "code",
   "execution_count": 40,
   "metadata": {},
   "outputs": [],
   "source": [
    "class CheckErrors:\n",
    "    def __init__(self, value_or_values, measure_from, measure_to):\n",
    "        self.value_or_values = value_or_values\n",
    "        self.measure_from = measure_from\n",
    "        self.measure_to = measure_to\n",
    "        self.monedas = [\"EURO\", \"DOLLAR\"]\n",
    "        self.longitud = [\"KM\", \"HM\", \"DAM\", \"M\", \"DM\", \"CM\", \"MM\"]\n",
    "        self.liquidos = [\"KL\", \"HL\", \"DAL\", \"L\", \"DL\", \"CL\", \"ML\"]\n",
    "        self.medida = None\n",
    "        self.check_is_number()\n",
    "\n",
    "    def check_is_number(self):\n",
    "        '''Comprueba si un valor o un iterable de valores es convertible a numérico.\n",
    "        \n",
    "        Params:\n",
    "            - value_or_values: valor/iterable.\n",
    "            \n",
    "        Devuelve:\n",
    "            - True si se cumple y nada si no.'''\n",
    "        if not self.check_input_type() or (self.check_input_type() == 1 and self.value_or_values and len([self.value_or_values])==1):\n",
    "            self.value_or_values = [float(self.value_or_values)]\n",
    "        for elem in self.value_or_values: #Si es 1 solo lo hará para ese valor. #Si es Str todos sus elementos deben ser Nums para que el Str completo lo sea.\n",
    "            float(elem)\n",
    "        self.check_measures()\n",
    "        #return value_or_values\n",
    "        \n",
    "    def check_input_type(self)->int:\n",
    "        if type(self.value_or_values)==str:\n",
    "            return 0\n",
    "        elif type(self.value_or_values)==int or type(self.value_or_values)==float:\n",
    "            return 1\n",
    "        else:\n",
    "            return 2\n",
    "        \n",
    "    def check_measures(self):\n",
    "        print(\"Entro\")\n",
    "        if self.measure_from in self.monedas and self.measure_to in self.monedas:\n",
    "            print(\"Es Monedas\")\n",
    "        elif (self.measure_from in self.longitud and self.measure_to in self.longitud):\n",
    "            print(\"Es Longitud\")\n",
    "        elif (self.measure_from in self.liquidos and self.measure_to in self.liquidos):\n",
    "            print(\"Es Liquido\")\n",
    "\n",
    "        "
   ]
  },
  {
   "cell_type": "code",
   "execution_count": 41,
   "metadata": {},
   "outputs": [],
   "source": [
    "class MedidaLongitud(CheckErrors):\n",
    "    def __init__(self, value_or_values, measure_from, measure_to):\n",
    "        super().__init__(value_or_values, measure_from, measure_to)\n",
    "        self.cambio_medidas()\n",
    "\n",
    "    def cambio_medidas(self):\n",
    "        indice = 0\n",
    "        for i in self.longitud:\n",
    "            if self.measure_from == i:\n",
    "                indice_medida1 = indice\n",
    "            if self.measure_to == i:\n",
    "                indice_medida2 = indice\n",
    "            indice += 1\n",
    "        \n",
    "        if indice_medida1 < indice_medida2:\n",
    "            mode = 0\n",
    "        else:\n",
    "            mode = 1\n",
    "        \n",
    "        for i in range(len(self.value_or_values)):\n",
    "            if mode == 0:\n",
    "                self.value_or_values[i] = self.value_or_values[i] * 10**(indice_medida2 - indice_medida1)\n",
    "            else:\n",
    "                self.value_or_values[i] = self.value_or_values[i] / 10**(indice_medida1 - indice_medida2)\n",
    "\n",
    "        print(self.value_or_values)"
   ]
  },
  {
   "cell_type": "code",
   "execution_count": 46,
   "metadata": {},
   "outputs": [],
   "source": [
    "class MedidasLiquidos(CheckErrors):\n",
    "    def __init__(self, value_or_values, measure_from, measure_to):\n",
    "        super().__init__(value_or_values, measure_from, measure_to)\n",
    "        self.cambio_medidas()\n",
    "\n",
    "    def cambio_medidas(self):\n",
    "        indice = 0\n",
    "        for i in self.liquidos:\n",
    "            if self.measure_from == i:\n",
    "                indice_medida1 = indice\n",
    "            if self.measure_to == i:\n",
    "                indice_medida2 = indice\n",
    "            indice += 1\n",
    "        \n",
    "        if indice_medida1 < indice_medida2:\n",
    "            mode = 0\n",
    "        else:\n",
    "            mode = 1\n",
    "        \n",
    "        for i in range(len(self.value_or_values)):\n",
    "            if mode == 0:\n",
    "                self.value_or_values[i] = self.value_or_values[i] * 10**(indice_medida2 - indice_medida1)\n",
    "            else:\n",
    "                self.value_or_values[i] = self.value_or_values[i] / 10**(indice_medida1 - indice_medida2)\n",
    "\n",
    "        print(self.value_or_values)"
   ]
  },
  {
   "cell_type": "code",
   "execution_count": 42,
   "metadata": {},
   "outputs": [
    {
     "name": "stdout",
     "output_type": "stream",
     "text": [
      "Entro\n",
      "Es Longitud\n",
      "[0.001, 0.002, 0.003, 0.004]\n"
     ]
    }
   ],
   "source": [
    "Prueba = MedidaLongitud([1, 2, 3, 4], \"M\", \"KM\") "
   ]
  },
  {
   "cell_type": "code",
   "execution_count": null,
   "metadata": {},
   "outputs": [],
   "source": [
    "Prueba = MedidaLongitud([1, 2, 3, 4], \"M\", \"KM\") "
   ]
  },
  {
   "cell_type": "code",
   "execution_count": 45,
   "metadata": {},
   "outputs": [
    {
     "name": "stdout",
     "output_type": "stream",
     "text": [
      "Entro\n",
      "Es Longitud\n",
      "[0.0018]\n"
     ]
    }
   ],
   "source": [
    "Prueba = MedidaLongitud(1.8, \"M\", \"KM\") "
   ]
  },
  {
   "cell_type": "code",
   "execution_count": 79,
   "metadata": {},
   "outputs": [
    {
     "data": {
      "text/plain": [
       "1"
      ]
     },
     "execution_count": 79,
     "metadata": {},
     "output_type": "execute_result"
    }
   ],
   "source": [
    "len([[]])"
   ]
  },
  {
   "cell_type": "code",
   "execution_count": 83,
   "metadata": {},
   "outputs": [],
   "source": [
    "if []:\n",
    "    print(1)"
   ]
  }
 ],
 "metadata": {
  "kernelspec": {
   "display_name": "EntornoReto10VO",
   "language": "python",
   "name": "python3"
  },
  "language_info": {
   "codemirror_mode": {
    "name": "ipython",
    "version": 3
   },
   "file_extension": ".py",
   "mimetype": "text/x-python",
   "name": "python",
   "nbconvert_exporter": "python",
   "pygments_lexer": "ipython3",
   "version": "3.10.8"
  }
 },
 "nbformat": 4,
 "nbformat_minor": 2
}
