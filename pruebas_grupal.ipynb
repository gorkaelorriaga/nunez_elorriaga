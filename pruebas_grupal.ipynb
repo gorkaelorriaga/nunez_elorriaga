{
 "cells": [
  {
   "cell_type": "code",
   "execution_count": 2,
   "metadata": {},
   "outputs": [],
   "source": [
    "lista = [2, 3, 4, \"A\", 3]\n",
    "lista_vacia = []\n",
    "lista_str = \"hola\""
   ]
  },
  {
   "cell_type": "code",
   "execution_count": 3,
   "metadata": {},
   "outputs": [],
   "source": [
    "def check_number(values):\n",
    "    index = 0\n",
    "    for elem in values:\n",
    "        try:\n",
    "            float(elem)\n",
    "            print(elem)\n",
    "        except ValueError as error:\n",
    "            if (len(values) > 1):\n",
    "                raise ValueError(f\"El tipo de dato en el indice [{index}] con valor [{elem}] es incorrecto.\")\n",
    "            else:\n",
    "                raise ValueError(f\"El tipo de dato [{elem}] es incorrecto.\")\n",
    "        index +=1"
   ]
  },
  {
   "cell_type": "code",
   "execution_count": null,
   "metadata": {},
   "outputs": [],
   "source": []
  },
  {
   "cell_type": "code",
   "execution_count": 4,
   "metadata": {},
   "outputs": [
    {
     "name": "stdout",
     "output_type": "stream",
     "text": [
      "2\n",
      "3\n",
      "4\n"
     ]
    },
    {
     "ename": "ValueError",
     "evalue": "El tipo de dato en el indice [3] con valor [A] es incorrecto.",
     "output_type": "error",
     "traceback": [
      "\u001b[1;31m---------------------------------------------------------------------------\u001b[0m",
      "\u001b[1;31mValueError\u001b[0m                                Traceback (most recent call last)",
      "\u001b[1;32mc:\\Users\\Iker\\OneDrive - Mondragon Unibertsitatea\\Uni\\BDA 4\\PROGRA\\TrabajoGrupal\\pruebas_grupal.ipynb Cell 4\u001b[0m line \u001b[0;36m5\n\u001b[0;32m      <a href='vscode-notebook-cell:/c%3A/Users/Iker/OneDrive%20-%20Mondragon%20Unibertsitatea/Uni/BDA%204/PROGRA/TrabajoGrupal/pruebas_grupal.ipynb#W3sZmlsZQ%3D%3D?line=3'>4</a>\u001b[0m \u001b[39mtry\u001b[39;00m:\n\u001b[1;32m----> <a href='vscode-notebook-cell:/c%3A/Users/Iker/OneDrive%20-%20Mondragon%20Unibertsitatea/Uni/BDA%204/PROGRA/TrabajoGrupal/pruebas_grupal.ipynb#W3sZmlsZQ%3D%3D?line=4'>5</a>\u001b[0m     \u001b[39mfloat\u001b[39;49m(elem)\n\u001b[0;32m      <a href='vscode-notebook-cell:/c%3A/Users/Iker/OneDrive%20-%20Mondragon%20Unibertsitatea/Uni/BDA%204/PROGRA/TrabajoGrupal/pruebas_grupal.ipynb#W3sZmlsZQ%3D%3D?line=5'>6</a>\u001b[0m     \u001b[39mprint\u001b[39m(elem)\n",
      "\u001b[1;31mValueError\u001b[0m: could not convert string to float: 'A'",
      "\nDuring handling of the above exception, another exception occurred:\n",
      "\u001b[1;31mValueError\u001b[0m                                Traceback (most recent call last)",
      "\u001b[1;32mc:\\Users\\Iker\\OneDrive - Mondragon Unibertsitatea\\Uni\\BDA 4\\PROGRA\\TrabajoGrupal\\pruebas_grupal.ipynb Cell 4\u001b[0m line \u001b[0;36m1\n\u001b[1;32m----> <a href='vscode-notebook-cell:/c%3A/Users/Iker/OneDrive%20-%20Mondragon%20Unibertsitatea/Uni/BDA%204/PROGRA/TrabajoGrupal/pruebas_grupal.ipynb#W3sZmlsZQ%3D%3D?line=0'>1</a>\u001b[0m check_number(lista)\n",
      "\u001b[1;32mc:\\Users\\Iker\\OneDrive - Mondragon Unibertsitatea\\Uni\\BDA 4\\PROGRA\\TrabajoGrupal\\pruebas_grupal.ipynb Cell 4\u001b[0m line \u001b[0;36m9\n\u001b[0;32m      <a href='vscode-notebook-cell:/c%3A/Users/Iker/OneDrive%20-%20Mondragon%20Unibertsitatea/Uni/BDA%204/PROGRA/TrabajoGrupal/pruebas_grupal.ipynb#W3sZmlsZQ%3D%3D?line=6'>7</a>\u001b[0m \u001b[39mexcept\u001b[39;00m \u001b[39mValueError\u001b[39;00m \u001b[39mas\u001b[39;00m error:\n\u001b[0;32m      <a href='vscode-notebook-cell:/c%3A/Users/Iker/OneDrive%20-%20Mondragon%20Unibertsitatea/Uni/BDA%204/PROGRA/TrabajoGrupal/pruebas_grupal.ipynb#W3sZmlsZQ%3D%3D?line=7'>8</a>\u001b[0m     \u001b[39mif\u001b[39;00m (\u001b[39mlen\u001b[39m(values) \u001b[39m>\u001b[39m \u001b[39m1\u001b[39m):\n\u001b[1;32m----> <a href='vscode-notebook-cell:/c%3A/Users/Iker/OneDrive%20-%20Mondragon%20Unibertsitatea/Uni/BDA%204/PROGRA/TrabajoGrupal/pruebas_grupal.ipynb#W3sZmlsZQ%3D%3D?line=8'>9</a>\u001b[0m         \u001b[39mraise\u001b[39;00m \u001b[39mValueError\u001b[39;00m(\u001b[39mf\u001b[39m\u001b[39m\"\u001b[39m\u001b[39mEl tipo de dato en el indice [\u001b[39m\u001b[39m{\u001b[39;00mindex\u001b[39m}\u001b[39;00m\u001b[39m] con valor [\u001b[39m\u001b[39m{\u001b[39;00melem\u001b[39m}\u001b[39;00m\u001b[39m] es incorrecto.\u001b[39m\u001b[39m\"\u001b[39m)\n\u001b[0;32m     <a href='vscode-notebook-cell:/c%3A/Users/Iker/OneDrive%20-%20Mondragon%20Unibertsitatea/Uni/BDA%204/PROGRA/TrabajoGrupal/pruebas_grupal.ipynb#W3sZmlsZQ%3D%3D?line=9'>10</a>\u001b[0m     \u001b[39melse\u001b[39;00m:\n\u001b[0;32m     <a href='vscode-notebook-cell:/c%3A/Users/Iker/OneDrive%20-%20Mondragon%20Unibertsitatea/Uni/BDA%204/PROGRA/TrabajoGrupal/pruebas_grupal.ipynb#W3sZmlsZQ%3D%3D?line=10'>11</a>\u001b[0m         \u001b[39mraise\u001b[39;00m \u001b[39mValueError\u001b[39;00m(\u001b[39mf\u001b[39m\u001b[39m\"\u001b[39m\u001b[39mEl tipo de dato [\u001b[39m\u001b[39m{\u001b[39;00melem\u001b[39m}\u001b[39;00m\u001b[39m] es incorrecto.\u001b[39m\u001b[39m\"\u001b[39m)\n",
      "\u001b[1;31mValueError\u001b[0m: El tipo de dato en el indice [3] con valor [A] es incorrecto."
     ]
    }
   ],
   "source": [
    "check_number(lista)"
   ]
  },
  {
   "cell_type": "code",
   "execution_count": null,
   "metadata": {},
   "outputs": [
    {
     "ename": "TypeError",
     "evalue": "len() takes exactly one argument (2 given)",
     "output_type": "error",
     "traceback": [
      "\u001b[1;31m---------------------------------------------------------------------------\u001b[0m",
      "\u001b[1;31mTypeError\u001b[0m                                 Traceback (most recent call last)",
      "\u001b[1;32mc:\\Users\\Iker\\OneDrive - Mondragon Unibertsitatea\\Uni\\BDA 4\\PROGRA\\pruebas_grupal.ipynb Cell 4\u001b[0m line \u001b[0;36m1\n\u001b[1;32m----> <a href='vscode-notebook-cell:/c%3A/Users/Iker/OneDrive%20-%20Mondragon%20Unibertsitatea/Uni/BDA%204/PROGRA/pruebas_grupal.ipynb#W3sZmlsZQ%3D%3D?line=0'>1</a>\u001b[0m \u001b[39mlen\u001b[39;49m(\u001b[39m\"\u001b[39;49m\u001b[39ma\u001b[39;49m\u001b[39m\"\u001b[39;49m, \u001b[39m\"\u001b[39;49m\u001b[39mb\u001b[39;49m\u001b[39m\"\u001b[39;49m)\n",
      "\u001b[1;31mTypeError\u001b[0m: len() takes exactly one argument (2 given)"
     ]
    }
   ],
   "source": [
    "len(\"a\", \"b\")"
   ]
  },
  {
   "cell_type": "code",
   "execution_count": null,
   "metadata": {},
   "outputs": [
    {
     "ename": "TypeError",
     "evalue": "'int' object is not iterable",
     "output_type": "error",
     "traceback": [
      "\u001b[1;31m---------------------------------------------------------------------------\u001b[0m",
      "\u001b[1;31mTypeError\u001b[0m                                 Traceback (most recent call last)",
      "\u001b[1;32mc:\\Users\\Iker\\OneDrive - Mondragon Unibertsitatea\\Uni\\BDA 4\\PROGRA\\pruebas_grupal.ipynb Cell 5\u001b[0m line \u001b[0;36m1\n\u001b[1;32m----> <a href='vscode-notebook-cell:/c%3A/Users/Iker/OneDrive%20-%20Mondragon%20Unibertsitatea/Uni/BDA%204/PROGRA/pruebas_grupal.ipynb#W4sZmlsZQ%3D%3D?line=0'>1</a>\u001b[0m \u001b[39mfor\u001b[39;00m i \u001b[39min\u001b[39;00m \u001b[39m12\u001b[39m:\n\u001b[0;32m      <a href='vscode-notebook-cell:/c%3A/Users/Iker/OneDrive%20-%20Mondragon%20Unibertsitatea/Uni/BDA%204/PROGRA/pruebas_grupal.ipynb#W4sZmlsZQ%3D%3D?line=1'>2</a>\u001b[0m     \u001b[39mprint\u001b[39m(i)\n",
      "\u001b[1;31mTypeError\u001b[0m: 'int' object is not iterable"
     ]
    }
   ],
   "source": [
    "for i in 12:\n",
    "    print(i)"
   ]
  },
  {
   "cell_type": "code",
   "execution_count": null,
   "metadata": {},
   "outputs": [
    {
     "data": {
      "text/plain": [
       "False"
      ]
     },
     "execution_count": 20,
     "metadata": {},
     "output_type": "execute_result"
    }
   ],
   "source": [
    "\"a\".isnumeric()"
   ]
  },
  {
   "cell_type": "code",
   "execution_count": null,
   "metadata": {},
   "outputs": [],
   "source": []
  },
  {
   "cell_type": "code",
   "execution_count": 118,
   "metadata": {},
   "outputs": [],
   "source": [
    "class CheckErrors:\n",
    "    def __init__(self, value_or_values, measure_from, measure_to):\n",
    "        self.value_or_values = value_or_values\n",
    "        self.measure_from = measure_from\n",
    "        self.measure_to = measure_to\n",
    "        self.monedas = [\"EUR\", \"USD\", \"MXP\", \"CNY\", \"GBP\", \"RUB\", \"JPY\", \"INR\", \"CHF\"]\n",
    "        self.longitud = [\"KM\", \"HM\", \"DAM\", \"M\", \"DM\", \"CM\", \"MM\"]\n",
    "        self.liquidos = [\"KL\", \"HL\", \"DAL\", \"L\", \"DL\", \"CL\", \"ML\"]\n",
    "        self.tiempo = [\"YEAR\", \"MONTH\", \"WEEK\", \"DAY\", \"HOUR\", \"MINUTE\", \"SECOND\"]\n",
    "        self.area = [\"HA\",\"KM2\",\"HM2\", \"DAM2\", \"M2\", \"DM2\", \"CM2\", \"MM2\"]\n",
    "        self.volumen = [\"KM3\",\"HM3\", \"DAM3\", \"M3\", \"DM3\", \"CM3\", \"MM3\"]\n",
    "        self.medida = None\n",
    "        self.check_is_number()\n",
    "\n",
    "    def check_is_number(self):\n",
    "        '''Comprueba si un valor o un iterable de valores es convertible a numérico.\n",
    "        \n",
    "        Params:\n",
    "            - value_or_values: valor/iterable.\n",
    "            \n",
    "        Devuelve:\n",
    "            - True si se cumple y nada si no.'''\n",
    "        if not self.check_input_type() or (self.check_input_type() == 1 and self.value_or_values and len([self.value_or_values])==1):\n",
    "            self.value_or_values = [float(self.value_or_values)]\n",
    "        for elem in self.value_or_values: #Si es 1 solo lo hará para ese valor. #Si es Str todos sus elementos deben ser Nums para que el Str completo lo sea.\n",
    "            float(elem)\n",
    "        \n",
    "    def check_input_type(self)->int:\n",
    "        if type(self.value_or_values)==str:\n",
    "            return 0\n",
    "        elif type(self.value_or_values)==int or type(self.value_or_values)==float:\n",
    "            return 1\n",
    "        else:\n",
    "            return 2\n",
    "        "
   ]
  },
  {
   "cell_type": "code",
   "execution_count": 119,
   "metadata": {},
   "outputs": [],
   "source": [
    "class MedidaLongitud(CheckErrors):\n",
    "    def __init__(self, value_or_values, measure_from, measure_to):\n",
    "        super().__init__(value_or_values, measure_from, measure_to)\n",
    "\n",
    "    def cambio_longitudes(self):\n",
    "        indice = 0\n",
    "        for i in self.longitud:\n",
    "            if self.measure_from == i:\n",
    "                indice_medida1 = indice\n",
    "            if self.measure_to == i:\n",
    "                indice_medida2 = indice\n",
    "            indice += 1\n",
    "        \n",
    "        if indice_medida1 < indice_medida2:\n",
    "            mode = 0\n",
    "        else:\n",
    "            mode = 1\n",
    "        \n",
    "        for i in range(len(self.value_or_values)):\n",
    "            if mode == 0:\n",
    "                self.value_or_values[i] = self.value_or_values[i] * 10**(indice_medida2 - indice_medida1)\n",
    "            else:\n",
    "                self.value_or_values[i] = self.value_or_values[i] / 10**(indice_medida1 - indice_medida2)\n",
    "\n",
    "        #print(self.value_or_values)"
   ]
  },
  {
   "cell_type": "code",
   "execution_count": 120,
   "metadata": {},
   "outputs": [],
   "source": [
    "class MedidasLiquidos(CheckErrors):\n",
    "    def __init__(self, value_or_values, measure_from, measure_to):\n",
    "        super().__init__(value_or_values, measure_from, measure_to)\n",
    "\n",
    "    def cambio_liquidos(self):\n",
    "        indice = 0\n",
    "        for i in self.liquidos:\n",
    "            if self.measure_from == i:\n",
    "                indice_medida1 = indice\n",
    "            if self.measure_to == i:\n",
    "                indice_medida2 = indice\n",
    "            indice += 1\n",
    "        \n",
    "        if indice_medida1 < indice_medida2:\n",
    "            mode = 0\n",
    "        else:\n",
    "            mode = 1\n",
    "        \n",
    "        for i in range(len(self.value_or_values)):\n",
    "            if mode == 0:\n",
    "                self.value_or_values[i] = self.value_or_values[i] * 10**(indice_medida2 - indice_medida1)\n",
    "            else:\n",
    "                self.value_or_values[i] = self.value_or_values[i] / 10**(indice_medida1 - indice_medida2)\n",
    "\n",
    "        #print(self.value_or_values)"
   ]
  },
  {
   "cell_type": "code",
   "execution_count": 121,
   "metadata": {},
   "outputs": [],
   "source": [
    "class MedidaArea(CheckErrors):\n",
    "    def __init__(self, value_or_values, measure_from, measure_to):\n",
    "        super().__init__(value_or_values, measure_from, measure_to)\n",
    "\n",
    "    def cambio_areas(self):\n",
    "        indice = 0\n",
    "        for i in self.area:\n",
    "            if self.measure_from == i:\n",
    "                indice_medida1 = indice\n",
    "            if self.measure_to == i:\n",
    "                indice_medida2 = indice\n",
    "            indice += 1\n",
    "        \n",
    "        if indice_medida1 < indice_medida2:\n",
    "            mode = 0\n",
    "        else:\n",
    "            mode = 1\n",
    "        \n",
    "        for i in range(len(self.value_or_values)):\n",
    "            if mode == 0:\n",
    "                self.value_or_values[i] = self.value_or_values[i] * 100**(indice_medida2 - indice_medida1)\n",
    "            else:\n",
    "                self.value_or_values[i] = self.value_or_values[i] / 100**(indice_medida1 - indice_medida2)"
   ]
  },
  {
   "cell_type": "code",
   "execution_count": 122,
   "metadata": {},
   "outputs": [],
   "source": [
    "class MedidaVolumen(CheckErrors):\n",
    "    def __init__(self, value_or_values, measure_from, measure_to):\n",
    "        super().__init__(value_or_values, measure_from, measure_to)\n",
    "\n",
    "    def cambio_volumenes(self):\n",
    "        indice = 0\n",
    "        for i in self.volumen:\n",
    "            if self.measure_from == i:\n",
    "                indice_medida1 = indice\n",
    "            if self.measure_to == i:\n",
    "                indice_medida2 = indice\n",
    "            indice += 1\n",
    "        \n",
    "        if indice_medida1 < indice_medida2:\n",
    "            mode = 0\n",
    "        else:\n",
    "            mode = 1\n",
    "        \n",
    "        for i in range(len(self.value_or_values)):\n",
    "            if mode == 0:\n",
    "                self.value_or_values[i] = self.value_or_values[i] * 1000**(indice_medida2 - indice_medida1)\n",
    "            else:\n",
    "                self.value_or_values[i] = self.value_or_values[i] / 1000**(indice_medida1 - indice_medida2)"
   ]
  },
  {
   "cell_type": "code",
   "execution_count": 123,
   "metadata": {},
   "outputs": [],
   "source": [
    "class MedidaMonedas(CheckErrors):\n",
    "    def __init__(self, value_or_values, measure_from, measure_to):\n",
    "        super().__init__(value_or_values, measure_from, measure_to)\n",
    "\n",
    "    def cambio_monedas(self):\n",
    "        import requests\n",
    "        for i in range(len(self.value_or_values)):\n",
    "            url='https://api.api-ninjas.com/v1/convertcurrency?have='+self.measure_from+'&want='+self.measure_to+'&amount='+str(self.value_or_values[i])\n",
    "            response=requests.get(url,headers={'X-API-KEY':'xRIFC4JjW7IMhQpsVbYs4Q==IwpSgRDfoQ4zHbV1'})\n",
    "            #print(response.text)\n",
    "            valor = \"\"\n",
    "            inicio = 0\n",
    "            elementos = [\"e\", \".\", \"+\"]\n",
    "            for caracter in response.text:\n",
    "                if caracter.isnumeric():\n",
    "                    inicio = 1\n",
    "                    valor += caracter\n",
    "                elif (inicio == 1 and caracter in elementos):\n",
    "                    valor += caracter\n",
    "                if caracter == \",\":\n",
    "                    break\n",
    "            if valor == \"\":\n",
    "                raise (Exception)\n",
    "            try:\n",
    "                valor = float(valor)\n",
    "            except ValueError:\n",
    "                print(\"La transformación entre monedas no ha sido posible\\n\")\n",
    "            self.value_or_values[i] = valor\n",
    "        #print(self.value_or_values)"
   ]
  },
  {
   "cell_type": "code",
   "execution_count": 124,
   "metadata": {},
   "outputs": [],
   "source": [
    "class MedidaTiempo(CheckErrors):\n",
    "    def __init__(self, value_or_values, measure_from, measure_to):\n",
    "        super().__init__(value_or_values, measure_from, measure_to)\n",
    "    \n",
    "    def year_month(self, value, mode):\n",
    "        if (mode == 0):\n",
    "            value *= 12\n",
    "        else:\n",
    "            value /= 12\n",
    "        return (value)\n",
    "\n",
    "    def month_week(self, value, mode):\n",
    "        if (mode == 0):\n",
    "            value *= 4\n",
    "        else:\n",
    "            value /= 4\n",
    "        return (value)\n",
    "    \n",
    "    def week_day(self, value, mode):\n",
    "        if (mode == 0):\n",
    "            value *= 7\n",
    "        else:\n",
    "            value /= 7\n",
    "        return (value)\n",
    "    \n",
    "    def day_hour(self, value, mode):\n",
    "        if (mode == 0):\n",
    "            value *= 24\n",
    "        else:\n",
    "            value /= 24\n",
    "        return (value)\n",
    "    \n",
    "    def hour_minute(self, value, mode):\n",
    "        if (mode == 0):\n",
    "            value *= 60\n",
    "        else:\n",
    "            value /= 60\n",
    "        return (value)\n",
    "    \n",
    "    def minute_second(self, value, mode):\n",
    "        if (mode == 0):\n",
    "            value *= 60\n",
    "        else:\n",
    "            value /= 60\n",
    "        return (value)\n",
    "\n",
    "    def cambio_tiempo(self):\n",
    "        indice = 0\n",
    "        for i in self.tiempo:\n",
    "            if self.measure_from == i:\n",
    "                indice_medida1 = indice\n",
    "            if self.measure_to == i:\n",
    "                indice_medida2 = indice\n",
    "            indice += 1\n",
    "        \n",
    "        if indice_medida1 < indice_medida2:\n",
    "            mode = 0\n",
    "        else:\n",
    "            mode = 1\n",
    "\n",
    "        for i in range(len(self.value_or_values)):\n",
    "            indice_medida1_copy = indice_medida1\n",
    "            indice_medida2_copy = indice_medida2\n",
    "            if mode == 0:\n",
    "                while indice_medida1_copy < indice_medida2_copy:\n",
    "                    if (indice_medida1_copy == 0):\n",
    "                        self.value_or_values[i] = self.year_month(self.value_or_values[i], mode)\n",
    "                    elif (indice_medida1_copy == 1):\n",
    "                        self.value_or_values[i] = self.month_week(self.value_or_values[i], mode)\n",
    "                    elif (indice_medida1_copy == 2):\n",
    "                        self.value_or_values[i] = self.week_day(self.value_or_values[i], mode)\n",
    "                    elif (indice_medida1_copy == 3):\n",
    "                        self.value_or_values[i] = self.day_hour(self.value_or_values[i], mode)\n",
    "                    elif (indice_medida1_copy == 4):\n",
    "                        self.value_or_values[i] = self.hour_minute(self.value_or_values[i], mode)\n",
    "                    elif (indice_medida1_copy == 5):\n",
    "                        self.value_or_values[i] = self.minute_second(self.value_or_values[i], mode)\n",
    "                    indice_medida1_copy += 1\n",
    "            else:\n",
    "                while indice_medida2_copy > indice_medida1_copy:\n",
    "                    if (indice_medida2_copy == 5):\n",
    "                        self.value_or_values[i] = self.minute_second(self.value_or_values[i], mode)\n",
    "                    elif (indice_medida2_copy == 4):\n",
    "                        self.value_or_values[i] = self.hour_minute(self.value_or_values[i], mode)\n",
    "                    elif (indice_medida2_copy == 3):\n",
    "                        self.value_or_values[i] = self.day_hour(self.value_or_values[i], mode)\n",
    "                    elif (indice_medida2_copy == 2):\n",
    "                        self.value_or_values[i] = self.week_day(self.value_or_values[i], mode)\n",
    "                    elif (indice_medida2_copy == 1):\n",
    "                        self.value_or_values[i] = self.month_week(self.value_or_values[i], mode)\n",
    "                    elif (indice_medida2_copy == 0):\n",
    "                        self.value_or_values[i] = self.year_month(self.value_or_values[i], mode)\n",
    "                    indice_medida2_copy -= 1\n",
    "        #print(self.value_or_values)\n",
    "                            "
   ]
  },
  {
   "cell_type": "code",
   "execution_count": 125,
   "metadata": {},
   "outputs": [],
   "source": [
    "\n",
    "class Conversor(MedidaLongitud, MedidasLiquidos, MedidaArea, MedidaVolumen, MedidaMonedas, MedidaTiempo):\n",
    "    def __init__(self, value_or_values, measure_from, measure_to):\n",
    "        super().__init__(value_or_values, measure_from, measure_to)\n",
    "        self.check_measures()\n",
    "    \n",
    "    def check_measures(self):\n",
    "        #print(\"Entro\")\n",
    "        if self.measure_from in self.monedas and self.measure_to in self.monedas:\n",
    "            #print(\"Es Monedas\")\n",
    "            self.cambio_monedas()\n",
    "        elif (self.measure_from in self.longitud and self.measure_to in self.longitud):\n",
    "            #print(\"Es Longitud\")\n",
    "            self.cambio_longitudes()\n",
    "        elif (self.measure_from in self.liquidos and self.measure_to in self.liquidos):\n",
    "            #print(\"Es Liquido\")\n",
    "            self.cambio_liquidos()\n",
    "        elif (self.measure_from in self.tiempo and self.measure_to in self.tiempo):\n",
    "            #print(\"Es Tiempo\")\n",
    "            self.cambio_tiempo()\n",
    "        elif (self.measure_from in self.area and self.measure_to in self.area):\n",
    "            self.cambio_areas()\n",
    "        elif (self.measure_from in self.volumen and self.measure_to in self.volumen):\n",
    "            self.cambio_volumenes()\n",
    "        else:\n",
    "            raise(Exception(\"La conversión que intenta realizar no es posible, compruebe que los valores son correctos y que ambas medidas pertenecen al mismo dominio\\n\"))\n",
    "        return(self.value_or_values)"
   ]
  },
  {
   "cell_type": "code",
   "execution_count": 126,
   "metadata": {},
   "outputs": [
    {
     "data": {
      "text/plain": [
       "[100, 200, 300, 400]"
      ]
     },
     "execution_count": 126,
     "metadata": {},
     "output_type": "execute_result"
    }
   ],
   "source": [
    "Prueba = Conversor([1,2,3,4], \"HA\", \"KM2\").value_or_values\n",
    "Prueba"
   ]
  },
  {
   "cell_type": "code",
   "execution_count": 80,
   "metadata": {},
   "outputs": [
    {
     "name": "stdout",
     "output_type": "stream",
     "text": [
      "[1.07, 2.14, 3.21, 4.28]\n"
     ]
    },
    {
     "data": {
      "text/plain": [
       "<__main__.Conversor at 0x27c3e2cf100>"
      ]
     },
     "execution_count": 80,
     "metadata": {},
     "output_type": "execute_result"
    }
   ],
   "source": [
    "Prueba = Conversor([1,2,3,4], \"EUR\", \"USD\")\n",
    "Prueba"
   ]
  },
  {
   "cell_type": "code",
   "execution_count": 39,
   "metadata": {},
   "outputs": [
    {
     "name": "stdout",
     "output_type": "stream",
     "text": [
      "[336, 672, 1008, 1344]\n"
     ]
    }
   ],
   "source": [
    "Prueba = Conversor([1,2,3,4], \"YEAR\", \"DAY\")"
   ]
  },
  {
   "cell_type": "code",
   "execution_count": 55,
   "metadata": {},
   "outputs": [
    {
     "name": "stdout",
     "output_type": "stream",
     "text": [
      "Entro\n",
      "Es Longitud\n",
      "[0.001, 0.002, 0.003, 0.004]\n"
     ]
    }
   ],
   "source": [
    "Prueba = MedidaLongitud([1, 2, 3, 4], \"EUR\", \"\") "
   ]
  },
  {
   "cell_type": "code",
   "execution_count": 58,
   "metadata": {},
   "outputs": [
    {
     "name": "stdout",
     "output_type": "stream",
     "text": [
      "Entro\n",
      "Es Longitud\n",
      "[0.001, 0.002, 0.003, 0.004]\n"
     ]
    }
   ],
   "source": [
    "Prueba = MedidaLongitud([1, 2, 3, 4], \"M\", \"KM\") "
   ]
  },
  {
   "cell_type": "code",
   "execution_count": 43,
   "metadata": {},
   "outputs": [
    {
     "name": "stdout",
     "output_type": "stream",
     "text": [
      "Entro\n",
      "Es Longitud\n",
      "[0.0018]\n"
     ]
    }
   ],
   "source": [
    "Prueba = MedidaLongitud(1.8, \"M\", \"KM\") "
   ]
  },
  {
   "cell_type": "code",
   "execution_count": 60,
   "metadata": {},
   "outputs": [
    {
     "name": "stdout",
     "output_type": "stream",
     "text": [
      "Entro\n",
      "Es Monedas\n",
      "{\"new_amount\": 1.05, \"new_currency\": \"USD\", \"old_currency\": \"EUR\", \"old_amount\": 1.0}\n",
      "{\"new_amount\": 2.11, \"new_currency\": \"USD\", \"old_currency\": \"EUR\", \"old_amount\": 2.0}\n",
      "{\"new_amount\": 3.16, \"new_currency\": \"USD\", \"old_currency\": \"EUR\", \"old_amount\": 3.0}\n",
      "{\"new_amount\": 4.21, \"new_currency\": \"USD\", \"old_currency\": \"EUR\", \"old_amount\": 4.0}\n",
      "[1.05, 2.11, 3.16, 4.21]\n"
     ]
    }
   ],
   "source": [
    "Prueba = MedidaMonedas([1, 2, 3, 4], \"EUR\", \"USD\")"
   ]
  },
  {
   "cell_type": "code",
   "execution_count": 35,
   "metadata": {},
   "outputs": [
    {
     "data": {
      "text/plain": [
       "1"
      ]
     },
     "execution_count": 35,
     "metadata": {},
     "output_type": "execute_result"
    }
   ],
   "source": [
    "len([[]])"
   ]
  },
  {
   "cell_type": "code",
   "execution_count": null,
   "metadata": {},
   "outputs": [],
   "source": [
    "if []:\n",
    "    print(1)\n",
    "data"
   ]
  },
  {
   "cell_type": "code",
   "execution_count": 13,
   "metadata": {},
   "outputs": [],
   "source": [
    "import requests\n",
    "def exchange(init_coin,end_coin,quant):\n",
    "    url='https://api.api-ninjas.com/v1/convertcurrency?have='+init_coin+'&want='+end_coin+'&amount='+str(quant)\n",
    "    response=requests.get(url,headers={'X-API-KEY':'xRIFC4JjW7IMhQpsVbYs4Q==IwpSgRDfoQ4zHbV1'})\n",
    "    return response.text\n",
    "    # new_amount=float(response.text[15:20])\n",
    "    # try:\n",
    "    #     int(new_amount)\n",
    "    #     return new_amount\n",
    "    # except:\n",
    "    #     return new_amount"
   ]
  },
  {
   "cell_type": "code",
   "execution_count": 25,
   "metadata": {},
   "outputs": [
    {
     "data": {
      "text/plain": [
       "'{\"error\": \"Invalid currencies.\"}'"
      ]
     },
     "execution_count": 25,
     "metadata": {},
     "output_type": "execute_result"
    }
   ],
   "source": [
    "exchange('EUR','YNJ',300)"
   ]
  },
  {
   "cell_type": "code",
   "execution_count": 16,
   "metadata": {},
   "outputs": [
    {
     "data": {
      "text/plain": [
       "1.053957e+29"
      ]
     },
     "execution_count": 16,
     "metadata": {},
     "output_type": "execute_result"
    }
   ],
   "source": [
    "float('1.053957e+29')"
   ]
  },
  {
   "cell_type": "code",
   "execution_count": 19,
   "metadata": {},
   "outputs": [
    {
     "data": {
      "text/plain": [
       "0.0"
      ]
     },
     "execution_count": 19,
     "metadata": {},
     "output_type": "execute_result"
    }
   ],
   "source": [
    "float()"
   ]
  }
 ],
 "metadata": {
  "kernelspec": {
   "display_name": "EntornoReto10VO",
   "language": "python",
   "name": "python3"
  },
  "language_info": {
   "codemirror_mode": {
    "name": "ipython",
    "version": 3
   },
   "file_extension": ".py",
   "mimetype": "text/x-python",
   "name": "python",
   "nbconvert_exporter": "python",
   "pygments_lexer": "ipython3",
   "version": "3.9.13"
  }
 },
 "nbformat": 4,
 "nbformat_minor": 2
}
